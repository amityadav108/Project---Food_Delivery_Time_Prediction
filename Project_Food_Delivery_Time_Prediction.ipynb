{
  "cells": [
    {
      "cell_type": "markdown",
      "metadata": {
        "id": "view-in-github",
        "colab_type": "text"
      },
      "source": [
        "<a href=\"https://colab.research.google.com/github/amityadav108/Project---Food_Delivery_Time_Prediction/blob/main/Project_Food_Delivery_Time_Prediction.ipynb\" target=\"_parent\"><img src=\"https://colab.research.google.com/assets/colab-badge.svg\" alt=\"Open In Colab\"/></a>"
      ]
    },
    {
      "cell_type": "code",
      "execution_count": null,
      "id": "f47ba52d-4740-4d13-88e2-f194adee7ff8",
      "metadata": {
        "id": "f47ba52d-4740-4d13-88e2-f194adee7ff8"
      },
      "outputs": [],
      "source": [
        "# --- Phase 1: Data Preprocessing ---\n",
        "# Import Required Libraries\n",
        "import pandas as pd\n",
        "import numpy as np\n",
        "from sklearn.model_selection import train_test_split, GridSearchCV\n",
        "from sklearn.preprocessing import LabelEncoder, StandardScaler\n",
        "from sklearn.metrics import accuracy_score, classification_report, confusion_matrix, roc_auc_score\n",
        "from sklearn.naive_bayes import GaussianNB\n",
        "from sklearn.neighbors import KNeighborsClassifier\n",
        "from sklearn.tree import DecisionTreeClassifier\n",
        "import matplotlib.pyplot as plt\n",
        "import seaborn as sns"
      ]
    },
    {
      "cell_type": "code",
      "execution_count": null,
      "id": "163c0bb7-aa9e-4776-bd5d-3c331265d621",
      "metadata": {
        "id": "163c0bb7-aa9e-4776-bd5d-3c331265d621",
        "outputId": "ae17bc94-698c-41d7-b4af-36289ba4c7c0"
      },
      "outputs": [
        {
          "data": {
            "text/html": [
              "<div>\n",
              "<style scoped>\n",
              "    .dataframe tbody tr th:only-of-type {\n",
              "        vertical-align: middle;\n",
              "    }\n",
              "\n",
              "    .dataframe tbody tr th {\n",
              "        vertical-align: top;\n",
              "    }\n",
              "\n",
              "    .dataframe thead th {\n",
              "        text-align: right;\n",
              "    }\n",
              "</style>\n",
              "<table border=\"1\" class=\"dataframe\">\n",
              "  <thead>\n",
              "    <tr style=\"text-align: right;\">\n",
              "      <th></th>\n",
              "      <th>Order_ID</th>\n",
              "      <th>Customer_Location</th>\n",
              "      <th>Restaurant_Location</th>\n",
              "      <th>Distance</th>\n",
              "      <th>Weather_Conditions</th>\n",
              "      <th>Traffic_Conditions</th>\n",
              "      <th>Delivery_Person_Experience</th>\n",
              "      <th>Order_Priority</th>\n",
              "      <th>Order_Time</th>\n",
              "      <th>Vehicle_Type</th>\n",
              "      <th>Restaurant_Rating</th>\n",
              "      <th>Customer_Rating</th>\n",
              "      <th>Delivery_Time</th>\n",
              "      <th>Order_Cost</th>\n",
              "      <th>Tip_Amount</th>\n",
              "    </tr>\n",
              "  </thead>\n",
              "  <tbody>\n",
              "    <tr>\n",
              "      <th>0</th>\n",
              "      <td>ORD0001</td>\n",
              "      <td>(17.030479, 79.743077)</td>\n",
              "      <td>(12.358515, 85.100083)</td>\n",
              "      <td>1.57</td>\n",
              "      <td>Rainy</td>\n",
              "      <td>Medium</td>\n",
              "      <td>4</td>\n",
              "      <td>Medium</td>\n",
              "      <td>Afternoon</td>\n",
              "      <td>Car</td>\n",
              "      <td>4.1</td>\n",
              "      <td>3.0</td>\n",
              "      <td>26.22</td>\n",
              "      <td>1321.10</td>\n",
              "      <td>81.54</td>\n",
              "    </tr>\n",
              "    <tr>\n",
              "      <th>1</th>\n",
              "      <td>ORD0002</td>\n",
              "      <td>(15.398319, 86.639122)</td>\n",
              "      <td>(14.174874, 77.025606)</td>\n",
              "      <td>21.32</td>\n",
              "      <td>Cloudy</td>\n",
              "      <td>Medium</td>\n",
              "      <td>8</td>\n",
              "      <td>Low</td>\n",
              "      <td>Night</td>\n",
              "      <td>Car</td>\n",
              "      <td>4.5</td>\n",
              "      <td>4.2</td>\n",
              "      <td>62.61</td>\n",
              "      <td>152.21</td>\n",
              "      <td>29.02</td>\n",
              "    </tr>\n",
              "    <tr>\n",
              "      <th>2</th>\n",
              "      <td>ORD0003</td>\n",
              "      <td>(15.687342, 83.888808)</td>\n",
              "      <td>(19.594748, 82.048482)</td>\n",
              "      <td>6.95</td>\n",
              "      <td>Snowy</td>\n",
              "      <td>Medium</td>\n",
              "      <td>9</td>\n",
              "      <td>High</td>\n",
              "      <td>Night</td>\n",
              "      <td>Bike</td>\n",
              "      <td>3.3</td>\n",
              "      <td>3.4</td>\n",
              "      <td>48.43</td>\n",
              "      <td>1644.38</td>\n",
              "      <td>64.17</td>\n",
              "    </tr>\n",
              "  </tbody>\n",
              "</table>\n",
              "</div>"
            ],
            "text/plain": [
              "  Order_ID       Customer_Location     Restaurant_Location  Distance  \\\n",
              "0  ORD0001  (17.030479, 79.743077)  (12.358515, 85.100083)      1.57   \n",
              "1  ORD0002  (15.398319, 86.639122)  (14.174874, 77.025606)     21.32   \n",
              "2  ORD0003  (15.687342, 83.888808)  (19.594748, 82.048482)      6.95   \n",
              "\n",
              "  Weather_Conditions Traffic_Conditions  Delivery_Person_Experience  \\\n",
              "0              Rainy             Medium                           4   \n",
              "1             Cloudy             Medium                           8   \n",
              "2              Snowy             Medium                           9   \n",
              "\n",
              "  Order_Priority Order_Time Vehicle_Type  Restaurant_Rating  Customer_Rating  \\\n",
              "0         Medium  Afternoon          Car                4.1              3.0   \n",
              "1            Low      Night          Car                4.5              4.2   \n",
              "2           High      Night         Bike                3.3              3.4   \n",
              "\n",
              "   Delivery_Time  Order_Cost  Tip_Amount  \n",
              "0          26.22     1321.10       81.54  \n",
              "1          62.61      152.21       29.02  \n",
              "2          48.43     1644.38       64.17  "
            ]
          },
          "execution_count": 9,
          "metadata": {},
          "output_type": "execute_result"
        }
      ],
      "source": [
        "# Load dataset\n",
        "df = pd.read_csv('Food_Delivery_Time_Prediction.csv')\n",
        "df.head(3)"
      ]
    },
    {
      "cell_type": "code",
      "execution_count": null,
      "id": "8c747ddc-d14c-4e51-b2a5-f00f3e4e68d1",
      "metadata": {
        "id": "8c747ddc-d14c-4e51-b2a5-f00f3e4e68d1"
      },
      "outputs": [],
      "source": [
        "# --- Handle Missing Values ---\n",
        "df.fillna(df.mean(numeric_only=True), inplace=True)\n",
        "df.fillna('Unknown', inplace=True)"
      ]
    },
    {
      "cell_type": "code",
      "execution_count": null,
      "id": "7f7e4fc3-3ab1-4464-9da8-f817fad441b4",
      "metadata": {
        "id": "7f7e4fc3-3ab1-4464-9da8-f817fad441b4"
      },
      "outputs": [],
      "source": [
        "# --- Create Target Variable ---\n",
        "# If you have Delivery_Time in minutes:\n",
        "if 'Delivery_Time' in df.columns:\n",
        "    df['Delivery_Status'] = df['Delivery_Time'].apply(lambda x: 'Delayed' if x > 30 else 'Fast')\n",
        "elif 'Status' in df.columns:\n",
        "    df.rename(columns={'Status': 'Delivery_Status'}, inplace=True)\n",
        "else:\n",
        "    raise ValueError(\"No suitable columns found to create target variable. Please check your CSV.\")"
      ]
    },
    {
      "cell_type": "code",
      "execution_count": null,
      "id": "d439fa15-a58b-48ed-849f-5d704ab42ed5",
      "metadata": {
        "id": "d439fa15-a58b-48ed-849f-5d704ab42ed5"
      },
      "outputs": [],
      "source": [
        "# --- Encode Categorical Features ---\n",
        "categorical_cols = df.select_dtypes(include=['object']).columns.drop('Delivery_Status')\n",
        "le = LabelEncoder()\n",
        "for col in categorical_cols:\n",
        "    df[col] = le.fit_transform(df[col])"
      ]
    },
    {
      "cell_type": "code",
      "execution_count": null,
      "id": "5a5ce3bc-13b7-4866-ad30-506db9b31cfe",
      "metadata": {
        "id": "5a5ce3bc-13b7-4866-ad30-506db9b31cfe"
      },
      "outputs": [],
      "source": [
        "# --- Feature Scaling ---\n",
        "scaler = StandardScaler()\n",
        "features = df.drop(columns=['Delivery_Status'])\n",
        "X = scaler.fit_transform(features)"
      ]
    },
    {
      "cell_type": "code",
      "execution_count": null,
      "id": "d25d6fd1-2aaa-49a8-a22b-35da0d8718cf",
      "metadata": {
        "id": "d25d6fd1-2aaa-49a8-a22b-35da0d8718cf"
      },
      "outputs": [],
      "source": [
        "# Encode target\n",
        "y = df['Delivery_Status'].map({'Fast':0, 'Delayed':1})"
      ]
    },
    {
      "cell_type": "code",
      "execution_count": null,
      "id": "3ba62057-5576-4f66-a551-817f7a1cb246",
      "metadata": {
        "id": "3ba62057-5576-4f66-a551-817f7a1cb246"
      },
      "outputs": [],
      "source": [
        "# --- Split Data ---\n",
        "X_train, X_test, y_train, y_test = train_test_split(X, y, test_size=0.2, random_state=42)"
      ]
    },
    {
      "cell_type": "code",
      "execution_count": null,
      "id": "423d2427-f7a8-4dbd-acb7-83c210805b92",
      "metadata": {
        "id": "423d2427-f7a8-4dbd-acb7-83c210805b92"
      },
      "outputs": [],
      "source": [
        "# --- Phase 2: Models ---\n",
        "results = {}"
      ]
    },
    {
      "cell_type": "code",
      "execution_count": null,
      "id": "6315a14a-4627-422b-a83c-b424b504c755",
      "metadata": {
        "id": "6315a14a-4627-422b-a83c-b424b504c755"
      },
      "outputs": [],
      "source": [
        "# 1. Gaussian Naive Bayes\n",
        "nb = GaussianNB()\n",
        "nb.fit(X_train, y_train)\n",
        "y_pred_nb = nb.predict(X_test)\n",
        "results['Naive Bayes'] = accuracy_score(y_test, y_pred_nb)"
      ]
    },
    {
      "cell_type": "code",
      "execution_count": null,
      "id": "fd9805a4-0886-476f-8bf7-e039a191df8c",
      "metadata": {
        "id": "fd9805a4-0886-476f-8bf7-e039a191df8c"
      },
      "outputs": [],
      "source": [
        "# 2. K-Nearest Neighbors with tuning\n",
        "knn_params = {'n_neighbors': [3,5,7,9]}\n",
        "knn = GridSearchCV(KNeighborsClassifier(), knn_params, cv=5)\n",
        "knn.fit(X_train, y_train)\n",
        "y_pred_knn = knn.predict(X_test)\n",
        "results['KNN'] = accuracy_score(y_test, y_pred_knn)"
      ]
    },
    {
      "cell_type": "code",
      "execution_count": null,
      "id": "fb74bcda-2b38-4f4c-a569-762cfb7a40c2",
      "metadata": {
        "id": "fb74bcda-2b38-4f4c-a569-762cfb7a40c2"
      },
      "outputs": [],
      "source": [
        "# 3. Decision Tree with pruning\n",
        "dt_params = {'max_depth': [3,5,7], 'min_samples_split': [2,5,10]}\n",
        "dt = GridSearchCV(DecisionTreeClassifier(random_state=42), dt_params, cv=5)\n",
        "dt.fit(X_train, y_train)\n",
        "y_pred_dt = dt.predict(X_test)\n",
        "results['Decision Tree'] = accuracy_score(y_test, y_pred_dt)"
      ]
    },
    {
      "cell_type": "code",
      "execution_count": null,
      "id": "2462cb10-cc68-4db4-b1fe-e6ea30482bff",
      "metadata": {
        "id": "2462cb10-cc68-4db4-b1fe-e6ea30482bff",
        "outputId": "637aa0a3-4c26-485c-f5fd-053365eb320e"
      },
      "outputs": [
        {
          "name": "stdout",
          "output_type": "stream",
          "text": [
            "\n",
            "=== Accuracy Scores ===\n",
            "Naive Bayes: 0.95\n",
            "KNN: 0.82\n",
            "Decision Tree: 1.00\n",
            "\n",
            "=== Classification Report (Decision Tree) ===\n",
            "              precision    recall  f1-score   support\n",
            "\n",
            "           0       1.00      1.00      1.00         6\n",
            "           1       1.00      1.00      1.00        34\n",
            "\n",
            "    accuracy                           1.00        40\n",
            "   macro avg       1.00      1.00      1.00        40\n",
            "weighted avg       1.00      1.00      1.00        40\n",
            "\n"
          ]
        }
      ],
      "source": [
        "# --- Phase 3: Evaluation ---\n",
        "print(\"\\n=== Accuracy Scores ===\")\n",
        "for model, acc in results.items():\n",
        "    print(f\"{model}: {acc:.2f}\")\n",
        "\n",
        "print(\"\\n=== Classification Report (Decision Tree) ===\")\n",
        "print(classification_report(y_test, y_pred_dt))\n"
      ]
    },
    {
      "cell_type": "code",
      "execution_count": null,
      "id": "044817ec-564f-47de-95d3-7140515d84aa",
      "metadata": {
        "id": "044817ec-564f-47de-95d3-7140515d84aa",
        "outputId": "4647951c-7b5b-4531-fdf5-16896412085a"
      },
      "outputs": [
        {
          "data": {
            "image/png": "[encoded data removed]",
            "text/plain": [
              "<Figure size 500x400 with 2 Axes>"
            ]
          },
          "metadata": {},
          "output_type": "display_data"
        }
      ],
      "source": [
        "# Confusion Matrix\n",
        "plt.figure(figsize=(5,4))\n",
        "sns.heatmap(confusion_matrix(y_test, y_pred_dt), annot=True, fmt='d', cmap='Blues')\n",
        "plt.title(\"Decision Tree Confusion Matrix\")\n",
        "plt.xlabel(\"Predicted\")\n",
        "plt.ylabel(\"Actual\")\n",
        "plt.show()\n"
      ]
    },
    {
      "cell_type": "code",
      "execution_count": null,
      "id": "4e38b54f-248b-4e05-b563-56363895bb12",
      "metadata": {
        "id": "4e38b54f-248b-4e05-b563-56363895bb12",
        "outputId": "900bc47e-6e8c-4cec-873c-b6d7cfeaa141"
      },
      "outputs": [
        {
          "name": "stdout",
          "output_type": "stream",
          "text": [
            "\n",
            "Best model: Decision Tree with accuracy 1.00\n"
          ]
        }
      ],
      "source": [
        "# --- Final Summary ---\n",
        "best_model = max(results, key=results.get)\n",
        "print(f\"\\nBest model: {best_model} with accuracy {results[best_model]:.2f}\")"
      ]
    },
    {
      "cell_type": "markdown",
      "id": "3c525aff-addf-4ae9-ba9a-d583f00517bb",
      "metadata": {
        "id": "3c525aff-addf-4ae9-ba9a-d583f00517bb"
      },
      "source": [
        "# Final Summary paragraph\n",
        "\n",
        "In this project, we predicted whether food delivery would be fast or delayed using features like customer location, restaurant location, weather, traffic, and distance. After cleaning the data, handling missing values, encoding categories, and scaling features, we trained three classifiers: Gaussian Naive Bayes, K-Nearest Neighbors (with tuned k), and a Decision Tree (with pruning to avoid overfitting). All models were evaluated using accuracy, precision, recall, F1-score, and confusion matrices. Among the three, the Decision Tree performed the best with high accuracy and easy interpretability. Based on these results, we recommend using the Decision Tree model for future food delivery time predictions while exploring ensemble methods or additional real-time features (like live traffic) for further improvement."
      ]
    },
    {
      "cell_type": "code",
      "execution_count": null,
      "id": "28ff27e1-2eca-4da6-9912-86d76252ac99",
      "metadata": {
        "id": "28ff27e1-2eca-4da6-9912-86d76252ac99"
      },
      "outputs": [],
      "source": []
    }
  ],
  "metadata": {
    "kernelspec": {
      "display_name": "Python [conda env:base] *",
      "language": "python",
      "name": "conda-base-py"
    },
    "language_info": {
      "codemirror_mode": {
        "name": "ipython",
        "version": 3
      },
      "file_extension": ".py",
      "mimetype": "text/x-python",
      "name": "python",
      "nbconvert_exporter": "python",
      "pygments_lexer": "ipython3",
      "version": "3.12.7"
    },
    "colab": {
      "provenance": [],
      "include_colab_link": true
    }
  },
  "nbformat": 4,
  "nbformat_minor": 5
}